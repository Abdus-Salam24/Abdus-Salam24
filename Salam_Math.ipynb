{
  "nbformat": 4,
  "nbformat_minor": 0,
  "metadata": {
    "colab": {
      "provenance": []
    },
    "kernelspec": {
      "name": "python3",
      "display_name": "Python 3"
    },
    "language_info": {
      "name": "python"
    }
  },
  "cells": [
    {
      "cell_type": "code",
      "execution_count": 12,
      "metadata": {
        "colab": {
          "base_uri": "https://localhost:8080/"
        },
        "id": "lTArkwNW2bWB",
        "outputId": "410ec53f-db74-4640-d9c3-83157bcffa9c"
      },
      "outputs": [
        {
          "name": "stdout",
          "output_type": "stream",
          "text": [
            "Enter the first number a: 500\n"
          ]
        }
      ],
      "source": [
        "from mpmath import mp\n",
        "numberOfDigits = int(input(\"Enter the first number a: \"))  ## this code will in the Colab\n",
        "def print_pi_to_n_digits(n):\n",
        "\n",
        "    # Set precision to n decimal places\n",
        "\n",
        "    mp.dps = n + 1  # Adding 1 to account for the \"3.\" before the decimals\n",
        "\n",
        "    # Return pi to n decimal places as a string\n",
        "\n",
        "    return str(mp.pi)"
      ]
    },
    {
      "cell_type": "code",
      "source": [
        "import math\n",
        "area = (4 * math.pow(20, 2))/(4 * math.tan(math.pi/4))\n",
        "print(area)"
      ],
      "metadata": {
        "colab": {
          "base_uri": "https://localhost:8080/"
        },
        "id": "Q-_bipWfCZNC",
        "outputId": "55f9dd88-21ac-4ff3-89b0-3e18da0b1dd8"
      },
      "execution_count": 13,
      "outputs": [
        {
          "output_type": "stream",
          "name": "stdout",
          "text": [
            "400.00000000000006\n"
          ]
        }
      ]
    },
    {
      "cell_type": "code",
      "source": [],
      "metadata": {
        "id": "NsjdXviACeXn"
      },
      "execution_count": null,
      "outputs": []
    }
  ]
}